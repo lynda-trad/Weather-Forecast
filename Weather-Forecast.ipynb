{
 "cells": [
  {
   "cell_type": "markdown",
   "id": "14a1fee4",
   "metadata": {
    "heading_collapsed": true
   },
   "source": [
    "# Weather Forecast"
   ]
  },
  {
   "cell_type": "markdown",
   "id": "50bc57f0",
   "metadata": {
    "hidden": true
   },
   "source": [
    "In this notebook, we will both work on regression and classification. \n",
    "\n",
    "We have a dataframe in which are registered weather caracteristics of a day.\n",
    "\n",
    "We will make our models predict the minimum temperature of the day, and if it rained the next day."
   ]
  },
  {
   "cell_type": "markdown",
   "id": "65776170",
   "metadata": {
    "heading_collapsed": true
   },
   "source": [
    "# Summary"
   ]
  },
  {
   "cell_type": "markdown",
   "id": "9429bbc4",
   "metadata": {
    "ExecuteTime": {
     "end_time": "2022-02-01T15:00:31.634817Z",
     "start_time": "2022-02-01T15:00:31.623841Z"
    },
    "hidden": true
   },
   "source": [
    "* Data Analysis\n",
    "* Data Visualisation\n",
    "* Machine Learning Classification\n",
    "* Machine Learning Regression\n",
    "* Conclusion"
   ]
  },
  {
   "cell_type": "markdown",
   "id": "98f990a0",
   "metadata": {
    "heading_collapsed": true
   },
   "source": [
    "# Library"
   ]
  },
  {
   "cell_type": "code",
   "execution_count": 272,
   "id": "85016905",
   "metadata": {
    "ExecuteTime": {
     "end_time": "2022-02-01T15:18:27.562335Z",
     "start_time": "2022-02-01T15:18:27.544418Z"
    },
    "hidden": true
   },
   "outputs": [],
   "source": [
    "# Data Analysis\n",
    "import numpy as np\n",
    "import pandas as pd\n",
    "import missingno as msno\n",
    "from pandas import Series, DataFrame\n",
    "\n",
    "# Data Visualisation\n",
    "import seaborn as sns\n",
    "import plotly.express as px\n",
    "import matplotlib.pyplot as plt\n",
    "\n",
    "# Machine Learning Library\n",
    "from sklearn import metrics\n",
    "from sklearn.impute import SimpleImputer\n",
    "from sklearn.preprocessing import LabelEncoder, StandardScaler\n",
    "from sklearn.model_selection import train_test_split, cross_val_score, StratifiedKFold, KFold, GridSearchCV\n",
    "\n",
    "# Classification Metrics\n",
    "from sklearn.metrics import multilabel_confusion_matrix, classification_report, accuracy_score, precision_score\n",
    "\n",
    "# Regression Metrics\n",
    "from sklearn.metrics import explained_variance_score, mean_squared_error, mean_absolute_error, r2_score\n",
    "\n",
    "# Classification Models\n",
    "import xgboost as xgb\n",
    "from sklearn import tree\n",
    "from sklearn.linear_model import LogisticRegression\n",
    "from sklearn.neighbors import KNeighborsClassifier\n",
    "from sklearn.tree import DecisionTreeClassifier\n",
    "from sklearn.ensemble import RandomForestClassifier\n",
    "\n",
    "# Regression Models\n",
    "from xgboost import XGBRegressor\n",
    "from sklearn.tree import DecisionTreeRegressor\n",
    "from sklearn.neighbors import KNeighborsRegressor\n",
    "from sklearn.ensemble import GradientBoostingRegressor\n",
    "from sklearn.linear_model import LinearRegression, Ridge,Lasso\n",
    "from sklearn.ensemble import ExtraTreesRegressor, RandomForestRegressor\n",
    "\n",
    "# OverSampler\n",
    "from imblearn.over_sampling import RandomOverSampler\n",
    "from collections import Counter\n",
    "\n",
    "# Other\n",
    "from time import time\n",
    "from warnings import filterwarnings\n",
    "filterwarnings('ignore')"
   ]
  },
  {
   "cell_type": "markdown",
   "id": "2cda7372",
   "metadata": {
    "heading_collapsed": true
   },
   "source": [
    "# Data Analysis"
   ]
  },
  {
   "cell_type": "code",
   "execution_count": 273,
   "id": "e5c60048",
   "metadata": {
    "ExecuteTime": {
     "end_time": "2022-02-01T15:18:27.594274Z",
     "start_time": "2022-02-01T15:18:27.564329Z"
    },
    "hidden": true
   },
   "outputs": [
    {
     "data": {
      "text/html": [
       "<div>\n",
       "<style scoped>\n",
       "    .dataframe tbody tr th:only-of-type {\n",
       "        vertical-align: middle;\n",
       "    }\n",
       "\n",
       "    .dataframe tbody tr th {\n",
       "        vertical-align: top;\n",
       "    }\n",
       "\n",
       "    .dataframe thead th {\n",
       "        text-align: right;\n",
       "    }\n",
       "</style>\n",
       "<table border=\"1\" class=\"dataframe\">\n",
       "  <thead>\n",
       "    <tr style=\"text-align: right;\">\n",
       "      <th></th>\n",
       "      <th>MinTemp</th>\n",
       "      <th>MaxTemp</th>\n",
       "      <th>Rainfall</th>\n",
       "      <th>Evaporation</th>\n",
       "      <th>Sunshine</th>\n",
       "      <th>WindGustDir</th>\n",
       "      <th>WindGustSpeed</th>\n",
       "      <th>WindDir9am</th>\n",
       "      <th>WindDir3pm</th>\n",
       "      <th>WindSpeed9am</th>\n",
       "      <th>...</th>\n",
       "      <th>Humidity3pm</th>\n",
       "      <th>Pressure9am</th>\n",
       "      <th>Pressure3pm</th>\n",
       "      <th>Cloud9am</th>\n",
       "      <th>Cloud3pm</th>\n",
       "      <th>Temp9am</th>\n",
       "      <th>Temp3pm</th>\n",
       "      <th>RainToday</th>\n",
       "      <th>RISK_MM</th>\n",
       "      <th>RainTomorrow</th>\n",
       "    </tr>\n",
       "  </thead>\n",
       "  <tbody>\n",
       "    <tr>\n",
       "      <th>0</th>\n",
       "      <td>8.0</td>\n",
       "      <td>24.3</td>\n",
       "      <td>0.0</td>\n",
       "      <td>3.4</td>\n",
       "      <td>6.3</td>\n",
       "      <td>NW</td>\n",
       "      <td>30.0</td>\n",
       "      <td>SW</td>\n",
       "      <td>NW</td>\n",
       "      <td>6.0</td>\n",
       "      <td>...</td>\n",
       "      <td>29</td>\n",
       "      <td>1019.7</td>\n",
       "      <td>1015.0</td>\n",
       "      <td>7</td>\n",
       "      <td>7</td>\n",
       "      <td>14.4</td>\n",
       "      <td>23.6</td>\n",
       "      <td>No</td>\n",
       "      <td>3.6</td>\n",
       "      <td>Yes</td>\n",
       "    </tr>\n",
       "    <tr>\n",
       "      <th>1</th>\n",
       "      <td>14.0</td>\n",
       "      <td>26.9</td>\n",
       "      <td>3.6</td>\n",
       "      <td>4.4</td>\n",
       "      <td>9.7</td>\n",
       "      <td>ENE</td>\n",
       "      <td>39.0</td>\n",
       "      <td>E</td>\n",
       "      <td>W</td>\n",
       "      <td>4.0</td>\n",
       "      <td>...</td>\n",
       "      <td>36</td>\n",
       "      <td>1012.4</td>\n",
       "      <td>1008.4</td>\n",
       "      <td>5</td>\n",
       "      <td>3</td>\n",
       "      <td>17.5</td>\n",
       "      <td>25.7</td>\n",
       "      <td>Yes</td>\n",
       "      <td>3.6</td>\n",
       "      <td>Yes</td>\n",
       "    </tr>\n",
       "    <tr>\n",
       "      <th>2</th>\n",
       "      <td>13.7</td>\n",
       "      <td>23.4</td>\n",
       "      <td>3.6</td>\n",
       "      <td>5.8</td>\n",
       "      <td>3.3</td>\n",
       "      <td>NW</td>\n",
       "      <td>85.0</td>\n",
       "      <td>N</td>\n",
       "      <td>NNE</td>\n",
       "      <td>6.0</td>\n",
       "      <td>...</td>\n",
       "      <td>69</td>\n",
       "      <td>1009.5</td>\n",
       "      <td>1007.2</td>\n",
       "      <td>8</td>\n",
       "      <td>7</td>\n",
       "      <td>15.4</td>\n",
       "      <td>20.2</td>\n",
       "      <td>Yes</td>\n",
       "      <td>39.8</td>\n",
       "      <td>Yes</td>\n",
       "    </tr>\n",
       "    <tr>\n",
       "      <th>3</th>\n",
       "      <td>13.3</td>\n",
       "      <td>15.5</td>\n",
       "      <td>39.8</td>\n",
       "      <td>7.2</td>\n",
       "      <td>9.1</td>\n",
       "      <td>NW</td>\n",
       "      <td>54.0</td>\n",
       "      <td>WNW</td>\n",
       "      <td>W</td>\n",
       "      <td>30.0</td>\n",
       "      <td>...</td>\n",
       "      <td>56</td>\n",
       "      <td>1005.5</td>\n",
       "      <td>1007.0</td>\n",
       "      <td>2</td>\n",
       "      <td>7</td>\n",
       "      <td>13.5</td>\n",
       "      <td>14.1</td>\n",
       "      <td>Yes</td>\n",
       "      <td>2.8</td>\n",
       "      <td>Yes</td>\n",
       "    </tr>\n",
       "    <tr>\n",
       "      <th>4</th>\n",
       "      <td>7.6</td>\n",
       "      <td>16.1</td>\n",
       "      <td>2.8</td>\n",
       "      <td>5.6</td>\n",
       "      <td>10.6</td>\n",
       "      <td>SSE</td>\n",
       "      <td>50.0</td>\n",
       "      <td>SSE</td>\n",
       "      <td>ESE</td>\n",
       "      <td>20.0</td>\n",
       "      <td>...</td>\n",
       "      <td>49</td>\n",
       "      <td>1018.3</td>\n",
       "      <td>1018.5</td>\n",
       "      <td>7</td>\n",
       "      <td>7</td>\n",
       "      <td>11.1</td>\n",
       "      <td>15.4</td>\n",
       "      <td>Yes</td>\n",
       "      <td>0.0</td>\n",
       "      <td>No</td>\n",
       "    </tr>\n",
       "    <tr>\n",
       "      <th>...</th>\n",
       "      <td>...</td>\n",
       "      <td>...</td>\n",
       "      <td>...</td>\n",
       "      <td>...</td>\n",
       "      <td>...</td>\n",
       "      <td>...</td>\n",
       "      <td>...</td>\n",
       "      <td>...</td>\n",
       "      <td>...</td>\n",
       "      <td>...</td>\n",
       "      <td>...</td>\n",
       "      <td>...</td>\n",
       "      <td>...</td>\n",
       "      <td>...</td>\n",
       "      <td>...</td>\n",
       "      <td>...</td>\n",
       "      <td>...</td>\n",
       "      <td>...</td>\n",
       "      <td>...</td>\n",
       "      <td>...</td>\n",
       "      <td>...</td>\n",
       "    </tr>\n",
       "    <tr>\n",
       "      <th>361</th>\n",
       "      <td>9.0</td>\n",
       "      <td>30.7</td>\n",
       "      <td>0.0</td>\n",
       "      <td>7.6</td>\n",
       "      <td>12.1</td>\n",
       "      <td>NNW</td>\n",
       "      <td>76.0</td>\n",
       "      <td>SSE</td>\n",
       "      <td>NW</td>\n",
       "      <td>7.0</td>\n",
       "      <td>...</td>\n",
       "      <td>15</td>\n",
       "      <td>1016.1</td>\n",
       "      <td>1010.8</td>\n",
       "      <td>1</td>\n",
       "      <td>3</td>\n",
       "      <td>20.4</td>\n",
       "      <td>30.0</td>\n",
       "      <td>No</td>\n",
       "      <td>0.0</td>\n",
       "      <td>No</td>\n",
       "    </tr>\n",
       "    <tr>\n",
       "      <th>362</th>\n",
       "      <td>7.1</td>\n",
       "      <td>28.4</td>\n",
       "      <td>0.0</td>\n",
       "      <td>11.6</td>\n",
       "      <td>12.7</td>\n",
       "      <td>N</td>\n",
       "      <td>48.0</td>\n",
       "      <td>NNW</td>\n",
       "      <td>NNW</td>\n",
       "      <td>2.0</td>\n",
       "      <td>...</td>\n",
       "      <td>22</td>\n",
       "      <td>1020.0</td>\n",
       "      <td>1016.9</td>\n",
       "      <td>0</td>\n",
       "      <td>1</td>\n",
       "      <td>17.2</td>\n",
       "      <td>28.2</td>\n",
       "      <td>No</td>\n",
       "      <td>0.0</td>\n",
       "      <td>No</td>\n",
       "    </tr>\n",
       "    <tr>\n",
       "      <th>363</th>\n",
       "      <td>12.5</td>\n",
       "      <td>19.9</td>\n",
       "      <td>0.0</td>\n",
       "      <td>8.4</td>\n",
       "      <td>5.3</td>\n",
       "      <td>ESE</td>\n",
       "      <td>43.0</td>\n",
       "      <td>ENE</td>\n",
       "      <td>ENE</td>\n",
       "      <td>11.0</td>\n",
       "      <td>...</td>\n",
       "      <td>47</td>\n",
       "      <td>1024.0</td>\n",
       "      <td>1022.8</td>\n",
       "      <td>3</td>\n",
       "      <td>2</td>\n",
       "      <td>14.5</td>\n",
       "      <td>18.3</td>\n",
       "      <td>No</td>\n",
       "      <td>0.0</td>\n",
       "      <td>No</td>\n",
       "    </tr>\n",
       "    <tr>\n",
       "      <th>364</th>\n",
       "      <td>12.5</td>\n",
       "      <td>26.9</td>\n",
       "      <td>0.0</td>\n",
       "      <td>5.0</td>\n",
       "      <td>7.1</td>\n",
       "      <td>NW</td>\n",
       "      <td>46.0</td>\n",
       "      <td>SSW</td>\n",
       "      <td>WNW</td>\n",
       "      <td>6.0</td>\n",
       "      <td>...</td>\n",
       "      <td>39</td>\n",
       "      <td>1021.0</td>\n",
       "      <td>1016.2</td>\n",
       "      <td>6</td>\n",
       "      <td>7</td>\n",
       "      <td>15.8</td>\n",
       "      <td>25.9</td>\n",
       "      <td>No</td>\n",
       "      <td>0.0</td>\n",
       "      <td>No</td>\n",
       "    </tr>\n",
       "    <tr>\n",
       "      <th>365</th>\n",
       "      <td>12.3</td>\n",
       "      <td>30.2</td>\n",
       "      <td>0.0</td>\n",
       "      <td>6.0</td>\n",
       "      <td>12.6</td>\n",
       "      <td>NW</td>\n",
       "      <td>78.0</td>\n",
       "      <td>NW</td>\n",
       "      <td>WNW</td>\n",
       "      <td>31.0</td>\n",
       "      <td>...</td>\n",
       "      <td>13</td>\n",
       "      <td>1009.6</td>\n",
       "      <td>1009.2</td>\n",
       "      <td>1</td>\n",
       "      <td>1</td>\n",
       "      <td>23.8</td>\n",
       "      <td>28.6</td>\n",
       "      <td>No</td>\n",
       "      <td>0.0</td>\n",
       "      <td>No</td>\n",
       "    </tr>\n",
       "  </tbody>\n",
       "</table>\n",
       "<p>366 rows × 22 columns</p>\n",
       "</div>"
      ],
      "text/plain": [
       "     MinTemp  MaxTemp  Rainfall  Evaporation  Sunshine WindGustDir  \\\n",
       "0        8.0     24.3       0.0          3.4       6.3          NW   \n",
       "1       14.0     26.9       3.6          4.4       9.7         ENE   \n",
       "2       13.7     23.4       3.6          5.8       3.3          NW   \n",
       "3       13.3     15.5      39.8          7.2       9.1          NW   \n",
       "4        7.6     16.1       2.8          5.6      10.6         SSE   \n",
       "..       ...      ...       ...          ...       ...         ...   \n",
       "361      9.0     30.7       0.0          7.6      12.1         NNW   \n",
       "362      7.1     28.4       0.0         11.6      12.7           N   \n",
       "363     12.5     19.9       0.0          8.4       5.3         ESE   \n",
       "364     12.5     26.9       0.0          5.0       7.1          NW   \n",
       "365     12.3     30.2       0.0          6.0      12.6          NW   \n",
       "\n",
       "     WindGustSpeed WindDir9am WindDir3pm  WindSpeed9am  ...  Humidity3pm  \\\n",
       "0             30.0         SW         NW           6.0  ...           29   \n",
       "1             39.0          E          W           4.0  ...           36   \n",
       "2             85.0          N        NNE           6.0  ...           69   \n",
       "3             54.0        WNW          W          30.0  ...           56   \n",
       "4             50.0        SSE        ESE          20.0  ...           49   \n",
       "..             ...        ...        ...           ...  ...          ...   \n",
       "361           76.0        SSE         NW           7.0  ...           15   \n",
       "362           48.0        NNW        NNW           2.0  ...           22   \n",
       "363           43.0        ENE        ENE          11.0  ...           47   \n",
       "364           46.0        SSW        WNW           6.0  ...           39   \n",
       "365           78.0         NW        WNW          31.0  ...           13   \n",
       "\n",
       "     Pressure9am  Pressure3pm  Cloud9am  Cloud3pm  Temp9am  Temp3pm  \\\n",
       "0         1019.7       1015.0         7         7     14.4     23.6   \n",
       "1         1012.4       1008.4         5         3     17.5     25.7   \n",
       "2         1009.5       1007.2         8         7     15.4     20.2   \n",
       "3         1005.5       1007.0         2         7     13.5     14.1   \n",
       "4         1018.3       1018.5         7         7     11.1     15.4   \n",
       "..           ...          ...       ...       ...      ...      ...   \n",
       "361       1016.1       1010.8         1         3     20.4     30.0   \n",
       "362       1020.0       1016.9         0         1     17.2     28.2   \n",
       "363       1024.0       1022.8         3         2     14.5     18.3   \n",
       "364       1021.0       1016.2         6         7     15.8     25.9   \n",
       "365       1009.6       1009.2         1         1     23.8     28.6   \n",
       "\n",
       "     RainToday  RISK_MM RainTomorrow  \n",
       "0           No      3.6          Yes  \n",
       "1          Yes      3.6          Yes  \n",
       "2          Yes     39.8          Yes  \n",
       "3          Yes      2.8          Yes  \n",
       "4          Yes      0.0           No  \n",
       "..         ...      ...          ...  \n",
       "361         No      0.0           No  \n",
       "362         No      0.0           No  \n",
       "363         No      0.0           No  \n",
       "364         No      0.0           No  \n",
       "365         No      0.0           No  \n",
       "\n",
       "[366 rows x 22 columns]"
      ]
     },
     "execution_count": 273,
     "metadata": {},
     "output_type": "execute_result"
    }
   ],
   "source": [
    "data = pd.read_csv(\"./resources/weather.csv\", encoding='utf-8', sep=',')\n",
    "data.drop_duplicates()"
   ]
  },
  {
   "cell_type": "code",
   "execution_count": 274,
   "id": "61a4ffec",
   "metadata": {
    "ExecuteTime": {
     "end_time": "2022-02-01T15:18:27.610205Z",
     "start_time": "2022-02-01T15:18:27.596244Z"
    },
    "hidden": true
   },
   "outputs": [
    {
     "name": "stdout",
     "output_type": "stream",
     "text": [
      "Dataframe features :\n",
      " ['MinTemp', 'MaxTemp', 'Rainfall', 'Evaporation', 'Sunshine', 'WindGustDir', 'WindGustSpeed', 'WindDir9am', 'WindDir3pm', 'WindSpeed9am', 'WindSpeed3pm', 'Humidity9am', 'Humidity3pm', 'Pressure9am', 'Pressure3pm', 'Cloud9am', 'Cloud3pm', 'Temp9am', 'Temp3pm', 'RainToday', 'RISK_MM', 'RainTomorrow']\n"
     ]
    }
   ],
   "source": [
    "columns = data.columns.tolist()\n",
    "print(\"Dataframe features :\\n\", columns)"
   ]
  },
  {
   "cell_type": "markdown",
   "id": "dac3916c",
   "metadata": {
    "heading_collapsed": true,
    "hidden": true
   },
   "source": [
    "## Infinite & Missing values"
   ]
  },
  {
   "cell_type": "code",
   "execution_count": 275,
   "id": "f5b5df01",
   "metadata": {
    "ExecuteTime": {
     "end_time": "2022-02-01T15:18:28.142399Z",
     "start_time": "2022-02-01T15:18:27.612201Z"
    },
    "hidden": true
   },
   "outputs": [
    {
     "name": "stdout",
     "output_type": "stream",
     "text": [
      "Percentage of missing values on each column :\n",
      "\n",
      "WindDir9am       8.469945\n",
      "WindSpeed9am     1.912568\n",
      "Sunshine         0.819672\n",
      "WindGustDir      0.819672\n",
      "WindGustSpeed    0.546448\n",
      "WindDir3pm       0.273224\n",
      "MinTemp          0.000000\n",
      "Pressure3pm      0.000000\n",
      "RISK_MM          0.000000\n",
      "RainToday        0.000000\n",
      "Temp3pm          0.000000\n",
      "Temp9am          0.000000\n",
      "Cloud3pm         0.000000\n",
      "Cloud9am         0.000000\n",
      "Humidity9am      0.000000\n",
      "Pressure9am      0.000000\n",
      "Humidity3pm      0.000000\n",
      "MaxTemp          0.000000\n",
      "WindSpeed3pm     0.000000\n",
      "Evaporation      0.000000\n",
      "Rainfall         0.000000\n",
      "RainTomorrow     0.000000\n",
      "dtype: float64\n"
     ]
    },
    {
     "data": {
      "image/png": "[encoded data removed]",
      "text/plain": [
       "<Figure size 1800x720 with 2 Axes>"
      ]
     },
     "metadata": {
      "needs_background": "light"
     },
     "output_type": "display_data"
    },
    {
     "data": {
      "image/png": "[encoded data removed]",
      "text/plain": [
       "<Figure size 1440x864 with 2 Axes>"
      ]
     },
     "metadata": {
      "needs_background": "light"
     },
     "output_type": "display_data"
    }
   ],
   "source": [
    "print(\"Percentage of missing values on each column :\\n\")\n",
    "print(((data.isnull().sum()/data.shape[0])*100).sort_values(ascending=False))\n",
    "msno.matrix(data)\n",
    "plt.title(\"Missing values Matrix\")\n",
    "msno.heatmap(data)\n",
    "plt.title(\"Missing values Correlation Heatmap\")\n",
    "data.replace([np.inf, -np.inf], np.nan, inplace=True)\n",
    "data = data.dropna()"
   ]
  },
  {
   "cell_type": "markdown",
   "id": "fb0816e6",
   "metadata": {
    "heading_collapsed": true
   },
   "source": [
    "# Correlations"
   ]
  },
  {
   "cell_type": "code",
   "execution_count": 276,
   "id": "ed152906",
   "metadata": {
    "ExecuteTime": {
     "end_time": "2022-02-01T15:18:28.157365Z",
     "start_time": "2022-02-01T15:18:28.143432Z"
    },
    "hidden": true
   },
   "outputs": [
    {
     "data": {
      "text/plain": [
       "MaxTemp        Temp3pm         0.988925\n",
       "Pressure9am    Pressure3pm     0.966744\n",
       "MinTemp        Temp9am         0.910805\n",
       "MaxTemp        Temp9am         0.869609\n",
       "Temp9am        Temp3pm         0.843509\n",
       "Sunshine       Humidity3pm     0.760267\n",
       "MinTemp        MaxTemp         0.745911\n",
       "               Temp3pm         0.716051\n",
       "Sunshine       Cloud9am        0.697603\n",
       "Evaporation    Temp9am         0.688749\n",
       "WindGustSpeed  WindSpeed3pm    0.687071\n",
       "MaxTemp        Evaporation     0.673162\n",
       "Sunshine       Cloud3pm        0.657198\n",
       "Evaporation    Temp3pm         0.655896\n",
       "MinTemp        Evaporation     0.634720\n",
       "Humidity3pm    Temp3pm         0.569348\n",
       "               Cloud9am        0.565174\n",
       "WindGustSpeed  WindSpeed9am    0.540717\n",
       "Humidity3pm    Cloud3pm        0.530715\n",
       "Cloud9am       Cloud3pm        0.528296\n",
       "dtype: float64"
      ]
     },
     "execution_count": 276,
     "metadata": {},
     "output_type": "execute_result"
    }
   ],
   "source": [
    "corr_matrix = data.corr().abs()\n",
    "sol = (corr_matrix.where(np.triu(np.ones(corr_matrix.shape), k=1).astype(np.bool))\n",
    "                  .stack()\n",
    "                  .sort_values(ascending=False))\n",
    "sol.head(20)"
   ]
  },
  {
   "cell_type": "markdown",
   "id": "a40b8f21",
   "metadata": {
    "heading_collapsed": true,
    "hidden": true
   },
   "source": [
    "### LabelEncoding"
   ]
  },
  {
   "cell_type": "code",
   "execution_count": 277,
   "id": "01d11728",
   "metadata": {
    "ExecuteTime": {
     "end_time": "2022-02-01T15:18:28.188229Z",
     "start_time": "2022-02-01T15:18:28.159357Z"
    },
    "hidden": true
   },
   "outputs": [
    {
     "name": "stdout",
     "output_type": "stream",
     "text": [
      "-- Distribution of columns' type --\n",
      "float64    12\n",
      "object      5\n",
      "int64       5\n",
      "dtype: int64 \n",
      "\n",
      "    WindGustDir WindDir9am WindDir3pm RainToday RainTomorrow\n",
      "0            NW         SW         NW        No          Yes\n",
      "1           ENE          E          W       Yes          Yes\n",
      "2            NW          N        NNE       Yes          Yes\n",
      "3            NW        WNW          W       Yes          Yes\n",
      "4           SSE        SSE        ESE       Yes           No\n",
      "..          ...        ...        ...       ...          ...\n",
      "361         NNW        SSE         NW        No           No\n",
      "362           N        NNW        NNW        No           No\n",
      "363         ESE        ENE        ENE        No           No\n",
      "364          NW        SSW        WNW        No           No\n",
      "365          NW         NW        WNW        No           No\n",
      "\n",
      "[328 rows x 5 columns] \n",
      "\n",
      "-- Number of different labels needed for each column --\n",
      "WindGustDir  16\n",
      "WindDir9am 16\n",
      "WindDir3pm 16\n",
      "RainToday 2\n",
      "RainTomorrow 2\n",
      "\n",
      "\n",
      "-- LabelEncoding --\n",
      "WindGustDir\n",
      "WindDir9am\n",
      "WindDir3pm\n",
      "RainToday\n",
      "RainTomorrow\n",
      "5 columns were label encoded.\n"
     ]
    }
   ],
   "source": [
    "# Does the dataframe have object type columns ?\n",
    "print(\"-- Distribution of columns' type --\")\n",
    "print(data.dtypes.value_counts(), '\\n')\n",
    "\n",
    "object_col = data.select_dtypes(include=['object'])\n",
    "object_cList = object_col.columns.tolist()\n",
    "print(object_col, '\\n')\n",
    "\n",
    "# How many different labels would each column need ?\n",
    "print(\"-- Number of different labels needed for each column --\")\n",
    "print('WindGustDir ', len(data['WindGustDir'].value_counts().index.tolist()))\n",
    "print('WindDir9am', len(data['WindDir9am'].value_counts().index.tolist()))\n",
    "print('WindDir3pm', len(data['WindDir3pm'].value_counts().index.tolist()))\n",
    "print('RainToday', len(data['RainToday'].value_counts().index.tolist()))\n",
    "print('RainTomorrow', len(data['RainTomorrow'].value_counts().index.tolist()))\n",
    "print('\\n')\n",
    "\n",
    "# LabelEncoding\n",
    "print(\"-- LabelEncoding --\")\n",
    "le = LabelEncoder()\n",
    "le_count = 0\n",
    "\n",
    "for col in data:\n",
    "    if data[col].dtype == 'object' or data[col].dtype == 'string':\n",
    "        le.fit(data[col])\n",
    "        data[col] = le.transform(data[col])\n",
    "        le_count += 1\n",
    "        print(col)\n",
    "data.reset_index()\n",
    "print('%d columns were label encoded.' % le_count)"
   ]
  },
  {
   "cell_type": "code",
   "execution_count": 278,
   "id": "cbbdcfb8",
   "metadata": {
    "ExecuteTime": {
     "end_time": "2022-02-01T15:18:28.203739Z",
     "start_time": "2022-02-01T15:18:28.190187Z"
    },
    "hidden": true
   },
   "outputs": [],
   "source": [
    "data['RainTomorrow']\n",
    "No = 0\n",
    "Yes = 1"
   ]
  },
  {
   "cell_type": "markdown",
   "id": "99486c40",
   "metadata": {},
   "source": [
    "# Machine Learning"
   ]
  },
  {
   "cell_type": "markdown",
   "id": "7a87df55",
   "metadata": {},
   "source": [
    "## Regression"
   ]
  },
  {
   "cell_type": "markdown",
   "id": "4dca1121",
   "metadata": {},
   "source": [
    "In this part, we will make our models predict the minimum temperature of the day.\n",
    "\n",
    "We'll use many different regressors to find which one is best suited for this task."
   ]
  },
  {
   "cell_type": "markdown",
   "id": "adfbd6f9",
   "metadata": {
    "heading_collapsed": true
   },
   "source": [
    "### Train Test data split"
   ]
  },
  {
   "cell_type": "code",
   "execution_count": 279,
   "id": "9a236f4f",
   "metadata": {
    "ExecuteTime": {
     "end_time": "2022-02-01T15:18:28.219423Z",
     "start_time": "2022-02-01T15:18:28.205464Z"
    },
    "hidden": true
   },
   "outputs": [],
   "source": [
    "col_for_X = columns\n",
    "col_for_X.remove('MinTemp')\n",
    "X = data[col_for_X]\n",
    "y = data['MinTemp']"
   ]
  },
  {
   "cell_type": "markdown",
   "id": "641bc91d",
   "metadata": {
    "heading_collapsed": true
   },
   "source": [
    "### Scaling"
   ]
  },
  {
   "cell_type": "code",
   "execution_count": 280,
   "id": "9f39948f",
   "metadata": {
    "ExecuteTime": {
     "end_time": "2022-02-01T15:18:28.235658Z",
     "start_time": "2022-02-01T15:18:28.221362Z"
    },
    "hidden": true
   },
   "outputs": [],
   "source": [
    "# Scaling\n",
    "sc = StandardScaler()\n",
    "X_sc = sc.fit_transform(X)\n",
    "X_train, X_test, y_train, y_test = train_test_split(X_sc, y, test_size=0.3, random_state=42)"
   ]
  },
  {
   "cell_type": "markdown",
   "id": "972bb566",
   "metadata": {},
   "source": [
    "### Models"
   ]
  },
  {
   "cell_type": "code",
   "execution_count": 281,
   "id": "09f27f89",
   "metadata": {
    "ExecuteTime": {
     "end_time": "2022-02-01T15:18:28.251330Z",
     "start_time": "2022-02-01T15:18:28.238360Z"
    }
   },
   "outputs": [],
   "source": [
    "regressors = [\n",
    "    KNeighborsRegressor(),\n",
    "    GradientBoostingRegressor(),\n",
    "    ExtraTreesRegressor(),\n",
    "    RandomForestRegressor(),\n",
    "    DecisionTreeRegressor(),\n",
    "    LinearRegression(),\n",
    "    Lasso(),\n",
    "    Ridge()\n",
    "]"
   ]
  },
  {
   "cell_type": "markdown",
   "id": "e07236ea",
   "metadata": {
    "heading_collapsed": true
   },
   "source": [
    "### Models performance"
   ]
  },
  {
   "cell_type": "code",
   "execution_count": 282,
   "id": "83f850d3",
   "metadata": {
    "ExecuteTime": {
     "end_time": "2022-02-01T15:18:28.646314Z",
     "start_time": "2022-02-01T15:18:28.252333Z"
    },
    "hidden": true
   },
   "outputs": [
    {
     "name": "stdout",
     "output_type": "stream",
     "text": [
      "KNeighborsRegressor()\n",
      "\tTraining time: 0.001s\n",
      "\tPrediction time: 0.001s\n",
      "\tExplained variance: 0.7585328273181098\n",
      "\tMean absolute error: 2.3644444444444446\n",
      "\tRMSE: 2.9133340267664387\n",
      "\n",
      "GradientBoostingRegressor()\n",
      "\tTraining time: 0.067s\n",
      "\tPrediction time: 0.000s\n",
      "\tExplained variance: 0.8895327526850589\n",
      "\tMean absolute error: 1.5371935327657917\n",
      "\tRMSE: 1.9723108925117958\n",
      "\n",
      "ExtraTreesRegressor()\n",
      "\tTraining time: 0.125s\n",
      "\tPrediction time: 0.008s\n",
      "\tExplained variance: 0.88094863991442\n",
      "\tMean absolute error: 1.642929292929293\n",
      "\tRMSE: 2.046943644272671\n",
      "\n",
      "RandomForestRegressor()\n",
      "\tTraining time: 0.167s\n",
      "\tPrediction time: 0.006s\n",
      "\tExplained variance: 0.8820114080142912\n",
      "\tMean absolute error: 1.5937373737373737\n",
      "\tRMSE: 2.0362343239966814\n",
      "\n",
      "DecisionTreeRegressor()\n",
      "\tTraining time: 0.003s\n",
      "\tPrediction time: 0.000s\n",
      "\tExplained variance: 0.7467529187104158\n",
      "\tMean absolute error: 2.36969696969697\n",
      "\tRMSE: 3.010084062049773\n",
      "\n",
      "LinearRegression()\n",
      "\tTraining time: 0.000s\n",
      "\tPrediction time: 0.000s\n",
      "\tExplained variance: 0.921530368848647\n",
      "\tMean absolute error: 1.3777427186048343\n",
      "\tRMSE: 1.6646780859238128\n",
      "\n",
      "Lasso()\n",
      "\tTraining time: 0.001s\n",
      "\tPrediction time: 0.000s\n",
      "\tExplained variance: 0.8177851712212404\n",
      "\tMean absolute error: 2.0876744218427508\n",
      "\tRMSE: 2.51912479128262\n",
      "\n",
      "Ridge()\n",
      "\tTraining time: 0.001s\n",
      "\tPrediction time: 0.000s\n",
      "\tExplained variance: 0.920880969423929\n",
      "\tMean absolute error: 1.3837224941291082\n",
      "\tRMSE: 1.6697705200267985\n",
      "\n"
     ]
    }
   ],
   "source": [
    "head = 10\n",
    "for model in regressors[:head]:\n",
    "    start = time()\n",
    "    model.fit(X_train, y_train)\n",
    "    train_time = time() - start\n",
    "    start = time()\n",
    "    y_pred = model.predict(X_test)\n",
    "    predict_time = time()-start    \n",
    "    print(model)\n",
    "    print(\"\\tTraining time: %0.3fs\" % train_time)\n",
    "    print(\"\\tPrediction time: %0.3fs\" % predict_time)\n",
    "    print(\"\\tExplained variance:\", explained_variance_score(y_test, y_pred))\n",
    "    print(\"\\tMean absolute error:\", mean_absolute_error(y_test, y_pred))\n",
    "    print(\"\\tRMSE:\", np.sqrt(mean_squared_error(y_test, y_pred)))\n",
    "    print()"
   ]
  },
  {
   "cell_type": "markdown",
   "id": "9826d4cc",
   "metadata": {
    "heading_collapsed": true
   },
   "source": [
    "## Classification"
   ]
  },
  {
   "cell_type": "markdown",
   "id": "09dcfd6c",
   "metadata": {
    "hidden": true
   },
   "source": [
    "In this part, we will make our models predict if it will rain tomorrow or not.\n",
    "\n",
    "We'll compare Logistic Regression, Decision Tree, Random Forest and KNeighbors.\n",
    "\n",
    "We label encoded the column RainTomorrow : 0 = No , 1 = Yes."
   ]
  },
  {
   "cell_type": "markdown",
   "id": "a4b09ae9",
   "metadata": {
    "heading_collapsed": true,
    "hidden": true
   },
   "source": [
    "### Unbalanced target column"
   ]
  },
  {
   "cell_type": "code",
   "execution_count": 288,
   "id": "dbbf6b2f",
   "metadata": {
    "ExecuteTime": {
     "end_time": "2022-02-01T15:21:06.083620Z",
     "start_time": "2022-02-01T15:21:05.994483Z"
    },
    "hidden": true
   },
   "outputs": [
    {
     "data": {
      "image/png": "[encoded data removed]",
      "text/plain": [
       "<Figure size 432x288 with 1 Axes>"
      ]
     },
     "metadata": {
      "needs_background": "light"
     },
     "output_type": "display_data"
    },
    {
     "name": "stdout",
     "output_type": "stream",
     "text": [
      "Unbalanced data on the RainTomorrow column:\n",
      "0    268\n",
      "1     60\n",
      "Name: RainTomorrow, dtype: int64\n"
     ]
    }
   ],
   "source": [
    "fig = sns.countplot(x=\"RainTomorrow\", data=data)\n",
    "plt.title('Balance of our target')\n",
    "plt.show()\n",
    "print(\"Unbalanced data on the RainTomorrow column:\")\n",
    "print(data['RainTomorrow'].value_counts())"
   ]
  },
  {
   "cell_type": "markdown",
   "id": "f3533510",
   "metadata": {
    "heading_collapsed": true,
    "hidden": true
   },
   "source": [
    "### Train Test data split"
   ]
  },
  {
   "cell_type": "code",
   "execution_count": 284,
   "id": "ae5df9cd",
   "metadata": {
    "ExecuteTime": {
     "end_time": "2022-02-01T15:18:28.740455Z",
     "start_time": "2022-02-01T15:18:28.726157Z"
    },
    "hidden": true
   },
   "outputs": [],
   "source": [
    "col_for_X = columns\n",
    "col_for_X.remove('RainTomorrow')\n",
    "X = data[col_for_X]\n",
    "y = data['RainTomorrow']\n",
    "X_train, X_test, y_train, y_test = train_test_split(X_sc, y, test_size=0.3, random_state=42)"
   ]
  },
  {
   "cell_type": "markdown",
   "id": "0ebf729c",
   "metadata": {
    "heading_collapsed": true,
    "hidden": true
   },
   "source": [
    "### Models"
   ]
  },
  {
   "cell_type": "code",
   "execution_count": 285,
   "id": "b49e513b",
   "metadata": {
    "ExecuteTime": {
     "end_time": "2022-02-01T15:18:28.755672Z",
     "start_time": "2022-02-01T15:18:28.742417Z"
    },
    "hidden": true
   },
   "outputs": [],
   "source": [
    "classifiers = [ \n",
    "    LogisticRegression(),\n",
    "    DecisionTreeClassifier(),\n",
    "    RandomForestClassifier(),\n",
    "    KNeighborsClassifier()\n",
    "]"
   ]
  },
  {
   "cell_type": "markdown",
   "id": "48e4aa83",
   "metadata": {
    "heading_collapsed": true,
    "hidden": true
   },
   "source": [
    "### Models Performance"
   ]
  },
  {
   "cell_type": "code",
   "execution_count": 287,
   "id": "a2a88ef2",
   "metadata": {
    "ExecuteTime": {
     "end_time": "2022-02-01T15:18:42.746101Z",
     "start_time": "2022-02-01T15:18:41.887541Z"
    },
    "hidden": true,
    "scrolled": true
   },
   "outputs": [
    {
     "name": "stdout",
     "output_type": "stream",
     "text": [
      "LogisticRegression()\n",
      "Classification report:\n",
      "               precision    recall  f1-score   support\n",
      "\n",
      "           0       1.00      1.00      1.00        81\n",
      "           1       1.00      1.00      1.00        18\n",
      "\n",
      "    accuracy                           1.00        99\n",
      "   macro avg       1.00      1.00      1.00        99\n",
      "weighted avg       1.00      1.00      1.00        99\n",
      "\n",
      "Accuracy score: 100.0 %\n",
      "\n",
      "Accuracy score using cross validation: 100.0 %\n",
      "\n"
     ]
    },
    {
     "data": {
      "image/png": "[encoded data removed]",
      "text/plain": [
       "<Figure size 360x360 with 1 Axes>"
      ]
     },
     "metadata": {
      "needs_background": "light"
     },
     "output_type": "display_data"
    },
    {
     "name": "stdout",
     "output_type": "stream",
     "text": [
      "The confusion matrix shows us the number of :\n",
      "\n",
      "* True positives : 81 \n",
      "\n",
      "* True negatives : 0 \n",
      "\n",
      "* False positives: 0 \n",
      "\n",
      "* False negatives: 18 \n",
      "\n",
      "\n",
      "DecisionTreeClassifier()\n",
      "Classification report:\n",
      "               precision    recall  f1-score   support\n",
      "\n",
      "           0       1.00      1.00      1.00        81\n",
      "           1       1.00      1.00      1.00        18\n",
      "\n",
      "    accuracy                           1.00        99\n",
      "   macro avg       1.00      1.00      1.00        99\n",
      "weighted avg       1.00      1.00      1.00        99\n",
      "\n",
      "Accuracy score: 100.0 %\n",
      "\n",
      "Accuracy score using cross validation: 100.0 %\n",
      "\n"
     ]
    },
    {
     "data": {
      "image/png": "[encoded data removed]",
      "text/plain": [
       "<Figure size 360x360 with 1 Axes>"
      ]
     },
     "metadata": {
      "needs_background": "light"
     },
     "output_type": "display_data"
    },
    {
     "name": "stdout",
     "output_type": "stream",
     "text": [
      "The confusion matrix shows us the number of :\n",
      "\n",
      "* True positives : 81 \n",
      "\n",
      "* True negatives : 0 \n",
      "\n",
      "* False positives: 0 \n",
      "\n",
      "* False negatives: 18 \n",
      "\n",
      "\n",
      "RandomForestClassifier()\n",
      "Classification report:\n",
      "               precision    recall  f1-score   support\n",
      "\n",
      "           0       1.00      1.00      1.00        81\n",
      "           1       1.00      1.00      1.00        18\n",
      "\n",
      "    accuracy                           1.00        99\n",
      "   macro avg       1.00      1.00      1.00        99\n",
      "weighted avg       1.00      1.00      1.00        99\n",
      "\n",
      "Accuracy score: 100.0 %\n",
      "\n",
      "Accuracy score using cross validation: 100.0 %\n",
      "\n"
     ]
    },
    {
     "data": {
      "image/png": "[encoded data removed]",
      "text/plain": [
       "<Figure size 360x360 with 1 Axes>"
      ]
     },
     "metadata": {
      "needs_background": "light"
     },
     "output_type": "display_data"
    },
    {
     "name": "stdout",
     "output_type": "stream",
     "text": [
      "The confusion matrix shows us the number of :\n",
      "\n",
      "* True positives : 81 \n",
      "\n",
      "* True negatives : 0 \n",
      "\n",
      "* False positives: 0 \n",
      "\n",
      "* False negatives: 18 \n",
      "\n",
      "\n",
      "KNeighborsClassifier()\n",
      "Classification report:\n",
      "               precision    recall  f1-score   support\n",
      "\n",
      "           0       0.96      1.00      0.98        81\n",
      "           1       1.00      0.83      0.91        18\n",
      "\n",
      "    accuracy                           0.97        99\n",
      "   macro avg       0.98      0.92      0.95        99\n",
      "weighted avg       0.97      0.97      0.97        99\n",
      "\n",
      "Accuracy score: 96.97 %\n",
      "\n",
      "Accuracy score using cross validation: 95.2 %\n",
      "\n"
     ]
    },
    {
     "data": {
      "image/png": "[encoded data removed]",
      "text/plain": [
       "<Figure size 360x360 with 1 Axes>"
      ]
     },
     "metadata": {
      "needs_background": "light"
     },
     "output_type": "display_data"
    },
    {
     "name": "stdout",
     "output_type": "stream",
     "text": [
      "The confusion matrix shows us the number of :\n",
      "\n",
      "* True positives : 81 \n",
      "\n",
      "* True negatives : 0 \n",
      "\n",
      "* False positives: 3 \n",
      "\n",
      "* False negatives: 15 \n",
      "\n",
      "\n"
     ]
    }
   ],
   "source": [
    "head = 10\n",
    "for model in classifiers[:head]:\n",
    "    start = time()\n",
    "    model.fit(X_train, y_train)\n",
    "    train_time = time() - start\n",
    "    start = time()\n",
    "    y_pred = model.predict(X_test)\n",
    "    predict_time = time()-start    \n",
    "    print(model)\n",
    "    print(\"Classification report:\\n\", classification_report(y_test, y_pred))\n",
    "    print(\"Accuracy score:\", round((accuracy_score(y_test, y_pred)*100), 2), '%\\n')\n",
    "    print(\"Accuracy score using cross validation:\", \n",
    "          round((cross_val_score(model, X_train, y_train, cv=3, scoring='accuracy').mean())*100, 2), '%\\n')\n",
    "    \n",
    "    \n",
    "    conf_matrix = metrics.confusion_matrix(y_test, y_pred)\n",
    "    fig, ax = plt.subplots(figsize=(5, 5))\n",
    "    ax.matshow(conf_matrix, cmap=plt.cm.Oranges, alpha=0.3)\n",
    "    for i in range(conf_matrix.shape[0]):\n",
    "        for j in range(conf_matrix.shape[1]):\n",
    "            ax.text(x=j, y=i,s=conf_matrix[i, j], va='center', ha='center', size='xx-large')\n",
    "    plt.xlabel('Predictions', fontsize=18)\n",
    "    plt.ylabel('Actuals', fontsize=18)\n",
    "    title = str(model) + 'Confusion Matrix'\n",
    "    plt.title(title, fontsize=18)\n",
    "    plt.show()\n",
    "    print('The confusion matrix shows us the number of :\\n')\n",
    "    print('* True positives :', conf_matrix[0][0] ,'\\n')\n",
    "    print('* True negatives :', conf_matrix[0][1],'\\n')\n",
    "    print('* False positives:', conf_matrix[1][0] ,'\\n')\n",
    "    print('* False negatives:', conf_matrix[1][1] ,'\\n')\n",
    "    print()"
   ]
  },
  {
   "cell_type": "markdown",
   "id": "5c1f6393",
   "metadata": {},
   "source": [
    "# Conclusion"
   ]
  },
  {
   "cell_type": "markdown",
   "id": "893504b2",
   "metadata": {},
   "source": [
    "Every classifiers we tried had good performances despite the unbalanced data in column 'RainTomorrow'.\n",
    "\n",
    "However, our regressors "
   ]
  }
 ],
 "metadata": {
  "kernelspec": {
   "display_name": "Python 3 (ipykernel)",
   "language": "python",
   "name": "python3"
  },
  "language_info": {
   "codemirror_mode": {
    "name": "ipython",
    "version": 3
   },
   "file_extension": ".py",
   "mimetype": "text/x-python",
   "name": "python",
   "nbconvert_exporter": "python",
   "pygments_lexer": "ipython3",
   "version": "3.9.6"
  }
 },
 "nbformat": 4,
 "nbformat_minor": 5
}
